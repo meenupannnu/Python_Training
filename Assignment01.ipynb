{
  "nbformat": 4,
  "nbformat_minor": 0,
  "metadata": {
    "colab": {
      "provenance": [],
      "authorship_tag": "ABX9TyOMQtl13YWuBnQ/bjwhFaXP",
      "include_colab_link": true
    },
    "kernelspec": {
      "name": "python3",
      "display_name": "Python 3"
    },
    "language_info": {
      "name": "python"
    }
  },
  "cells": [
    {
      "cell_type": "markdown",
      "metadata": {
        "id": "view-in-github",
        "colab_type": "text"
      },
      "source": [
        "<a href=\"https://colab.research.google.com/github/meenupannnu/Python_Training/blob/main/Assignment01.ipynb\" target=\"_parent\"><img src=\"https://colab.research.google.com/assets/colab-badge.svg\" alt=\"Open In Colab\"/></a>"
      ]
    },
    {
      "cell_type": "code",
      "execution_count": 21,
      "metadata": {
        "colab": {
          "base_uri": "https://localhost:8080/"
        },
        "id": "LXATeiOwlmpv",
        "outputId": "ad93a2db-6940-40da-b91c-215eb2cd71e0"
      },
      "outputs": [
        {
          "output_type": "stream",
          "name": "stdout",
          "text": [
            "[44, 13, 14, 50, 60]\n"
          ]
        }
      ],
      "source": [
        "L=[11,12,13,14]\n",
        "L.append(50)\n",
        "L.append(60)\n",
        "L.insert(1,44)\n",
        "L.remove(12)\n",
        "L.pop(0) # remove first element\n",
        "print(L)"
      ]
    },
    {
      "cell_type": "code",
      "source": [
        "A=[1,10, 13, 12, 4, 56, 66, 45, 56, 99]\n",
        "A.sort # ascending\n",
        "print(A)"
      ],
      "metadata": {
        "colab": {
          "base_uri": "https://localhost:8080/"
        },
        "id": "e3krOZTEmW-y",
        "outputId": "69793dcc-84bf-4120-fc4b-7abed6c5a15e"
      },
      "execution_count": 13,
      "outputs": [
        {
          "output_type": "stream",
          "name": "stdout",
          "text": [
            "[1, 10, 13, 12, 4, 56, 66, 45, 56, 99]\n"
          ]
        }
      ]
    },
    {
      "cell_type": "code",
      "source": [
        "A.sort(reverse=True)\n",
        "print(A)"
      ],
      "metadata": {
        "colab": {
          "base_uri": "https://localhost:8080/"
        },
        "id": "pdr6FfH-obQB",
        "outputId": "c5147e51-c90a-4792-eb50-6f9b4279710b"
      },
      "execution_count": 14,
      "outputs": [
        {
          "output_type": "stream",
          "name": "stdout",
          "text": [
            "[99, 66, 56, 56, 45, 13, 12, 10, 4, 1]\n"
          ]
        }
      ]
    },
    {
      "cell_type": "code",
      "source": [
        "if 13 in A:\n",
        "  print(\"13 is present in the list\")\n",
        "else:\n",
        "    print(\"13 is not present\")"
      ],
      "metadata": {
        "colab": {
          "base_uri": "https://localhost:8080/"
        },
        "id": "N6A3MzvTpnzP",
        "outputId": "0092b291-eaed-43b4-9906-1b6159456fa4"
      },
      "execution_count": 17,
      "outputs": [
        {
          "output_type": "stream",
          "name": "stdout",
          "text": [
            "13 is present in the list\n"
          ]
        }
      ]
    },
    {
      "cell_type": "code",
      "source": [
        "print(len(A))"
      ],
      "metadata": {
        "colab": {
          "base_uri": "https://localhost:8080/"
        },
        "id": "uIqCv1N0q0Dl",
        "outputId": "b010ac97-1f95-4ec8-a2fc-2383e4f6bd43"
      },
      "execution_count": 18,
      "outputs": [
        {
          "output_type": "stream",
          "name": "stdout",
          "text": [
            "10\n"
          ]
        }
      ]
    },
    {
      "cell_type": "code",
      "source": [
        "print(sum(A)) #sum of all th numbers in A and L\n",
        "print(sum(L))\n"
      ],
      "metadata": {
        "colab": {
          "base_uri": "https://localhost:8080/"
        },
        "id": "_x_LcMB3rDzg",
        "outputId": "cbdb09d4-52e3-47e3-f929-78dc4747fd85"
      },
      "execution_count": 22,
      "outputs": [
        {
          "output_type": "stream",
          "name": "stdout",
          "text": [
            "362\n",
            "181\n"
          ]
        }
      ]
    },
    {
      "cell_type": "code",
      "source": [
        "A_sum_e =sum (num for num in A if num % 2 == 0)# define a number for number present in A if it is divisible by 2\n",
        "print(A_sum_e)\n"
      ],
      "metadata": {
        "colab": {
          "base_uri": "https://localhost:8080/"
        },
        "id": "XqKnF-Jrq0bn",
        "outputId": "7df22e07-7d1e-4149-d229-97c065dc7e90"
      },
      "execution_count": 23,
      "outputs": [
        {
          "output_type": "stream",
          "name": "stdout",
          "text": [
            "204\n"
          ]
        }
      ]
    },
    {
      "cell_type": "code",
      "source": [
        "A_sum_o =  sum(num for num in A if (num+1) % 2 == 0)\n",
        "print(A_sum_o)"
      ],
      "metadata": {
        "colab": {
          "base_uri": "https://localhost:8080/"
        },
        "id": "w96qCxpwsueb",
        "outputId": "4760f42e-44e4-4070-b849-5b18dd7c1aa7"
      },
      "execution_count": 25,
      "outputs": [
        {
          "output_type": "stream",
          "name": "stdout",
          "text": [
            "158\n"
          ]
        }
      ]
    },
    {
      "cell_type": "code",
      "source": [
        "# SUm of Prime No."
      ],
      "metadata": {
        "id": "ahmP0GrEvDrf"
      },
      "execution_count": null,
      "outputs": []
    },
    {
      "cell_type": "code",
      "source": [
        "L.clear()\n",
        "print(L)"
      ],
      "metadata": {
        "colab": {
          "base_uri": "https://localhost:8080/"
        },
        "id": "YJ7l5gq7vI_v",
        "outputId": "fe14197d-9902-4c64-8a2f-07fa080d0ec9"
      },
      "execution_count": 29,
      "outputs": [
        {
          "output_type": "stream",
          "name": "stdout",
          "text": [
            "[]\n"
          ]
        }
      ]
    },
    {
      "cell_type": "code",
      "source": [
        "A = [1,2]\n",
        "del(A)\n"
      ],
      "metadata": {
        "id": "EG7pW8s_wEow"
      },
      "execution_count": 69,
      "outputs": []
    },
    {
      "cell_type": "code",
      "source": [
        "sum = 0\n",
        "for i in range(10, 20):\n",
        "    if i % 2 == 0:\n",
        "        sum += i\n",
        "print(sum)\n"
      ],
      "metadata": {
        "colab": {
          "base_uri": "https://localhost:8080/"
        },
        "id": "r0BJ1MENxkLR",
        "outputId": "ea7c3979-fcb3-49c7-e321-1cca30e60c2a"
      },
      "execution_count": 67,
      "outputs": [
        {
          "output_type": "stream",
          "name": "stdout",
          "text": [
            "70\n"
          ]
        }
      ]
    },
    {
      "cell_type": "code",
      "source": [
        "def isprime(n):\n",
        "    if n <= 1:\n",
        "        return False\n",
        "    for i in range(2, (n // 2) + 1):\n",
        "        if n % i == 0:\n",
        "            return False\n",
        "    return True\n",
        "\n",
        "sum_of_primes = 0\n",
        "for i in range(10, 20):\n",
        "    if isprime(i):\n",
        "        sum_of_primes += i\n",
        "\n",
        "print(sum_of_primes)\n"
      ],
      "metadata": {
        "colab": {
          "base_uri": "https://localhost:8080/"
        },
        "id": "vtObL7ljzVJ8",
        "outputId": "18f3f103-aeb1-4a5f-8406-282041c60f8d"
      },
      "execution_count": 68,
      "outputs": [
        {
          "output_type": "stream",
          "name": "stdout",
          "text": [
            "60\n"
          ]
        }
      ]
    }
  ]
}