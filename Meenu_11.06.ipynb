L=[11,12,13,14]
L.append(50)
L.append(60)
L.insert(1,44)
L.remove(12)
L.pop(0) # remove first element
print(L)
